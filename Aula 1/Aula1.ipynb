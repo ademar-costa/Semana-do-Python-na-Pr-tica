{
 "cells": [
  {
   "cell_type": "markdown",
   "id": "082a401f-b334-4b99-abb8-f6ed4c4199c1",
   "metadata": {},
   "source": [
    "# Primeiro código em python"
   ]
  },
  {
   "cell_type": "markdown",
   "id": "b7ff095b-650c-4791-83a7-43beb70242d2",
   "metadata": {},
   "source": [
    "## Imprimindo dados na tela do computador"
   ]
  },
  {
   "cell_type": "markdown",
   "id": "fa3f3223-5af9-4eba-be0f-5c9aaf918df7",
   "metadata": {},
   "source": [
    "Para imprimir dados na tela do computador, utilizamos a função print()"
   ]
  },
  {
   "cell_type": "code",
   "execution_count": 1,
   "id": "1cc98707-bcc8-48b3-908f-1c9916b5e794",
   "metadata": {},
   "outputs": [
    {
     "name": "stdout",
     "output_type": "stream",
     "text": [
      "Semana Python na prática\n"
     ]
    }
   ],
   "source": [
    "print(\"Semana Python na prática\")"
   ]
  },
  {
   "cell_type": "code",
   "execution_count": 2,
   "id": "fef11a86-28b5-484d-92a3-ef2362966a0c",
   "metadata": {},
   "outputs": [
    {
     "name": "stdout",
     "output_type": "stream",
     "text": [
      "Meu primeiro código\n"
     ]
    }
   ],
   "source": [
    "print(\"Meu primeiro código\")"
   ]
  },
  {
   "cell_type": "markdown",
   "id": "1e4704e9-1c9e-488e-9fc0-2c2bd5d3f5ef",
   "metadata": {},
   "source": [
    "## Tipos de dados : textos e números"
   ]
  },
  {
   "cell_type": "markdown",
   "id": "e232dddf-8e38-4bea-91a3-5f5befeae524",
   "metadata": {},
   "source": [
    "Texto: str\n",
    "Número: int\n",
    "números com casa decimal: float\n",
    "ATENÇÃO: o separador de casas decimais em python é o ponto não vírgula\n",
    "\n",
    "Para verificar o tipo de dados , podemos utilizar a função type().\n",
    "\n",
    "Operadores aritiméticos:\n",
    "Adição: +\n",
    "Subtração: -\n",
    "Multiplicação: *\n",
    "Divisão: /"
   ]
  },
  {
   "cell_type": "code",
   "execution_count": 3,
   "id": "9acca9cd-63af-4528-9eeb-e0002a841b03",
   "metadata": {},
   "outputs": [
    {
     "name": "stdout",
     "output_type": "stream",
     "text": [
      "10\n"
     ]
    }
   ],
   "source": [
    "#Isso é um tipo TEXTO\n",
    "#Quando esta em aspas duplas\n",
    "print(\"10\")"
   ]
  },
  {
   "cell_type": "code",
   "execution_count": 5,
   "id": "338cbf70-e258-4841-8b21-d36fa6ca739f",
   "metadata": {},
   "outputs": [
    {
     "data": {
      "text/plain": [
       "str"
      ]
     },
     "execution_count": 5,
     "metadata": {},
     "output_type": "execute_result"
    }
   ],
   "source": [
    "type(\"10\")"
   ]
  },
  {
   "cell_type": "code",
   "execution_count": 6,
   "id": "b6bebfd3-5907-4fe7-9bfa-fd5145430e03",
   "metadata": {},
   "outputs": [
    {
     "name": "stdout",
     "output_type": "stream",
     "text": [
      "10\n"
     ]
    }
   ],
   "source": [
    "#Isso é um tipo numérico\n",
    "print(10)"
   ]
  },
  {
   "cell_type": "code",
   "execution_count": 7,
   "id": "a27b7974-39ac-41af-a776-8b22c4c1e220",
   "metadata": {},
   "outputs": [
    {
     "data": {
      "text/plain": [
       "int"
      ]
     },
     "execution_count": 7,
     "metadata": {},
     "output_type": "execute_result"
    }
   ],
   "source": [
    "type(10)"
   ]
  },
  {
   "cell_type": "code",
   "execution_count": 8,
   "id": "370b8f1d-2f40-402e-93be-6d209762a61e",
   "metadata": {},
   "outputs": [
    {
     "name": "stdout",
     "output_type": "stream",
     "text": [
      "10.5\n"
     ]
    }
   ],
   "source": [
    "#isso é um tipo númerico com casa decimal\n",
    "print(10.5)"
   ]
  },
  {
   "cell_type": "code",
   "execution_count": 9,
   "id": "3a2083ba-40e2-4cd6-b3d8-285fda151b51",
   "metadata": {},
   "outputs": [
    {
     "data": {
      "text/plain": [
       "float"
      ]
     },
     "execution_count": 9,
     "metadata": {},
     "output_type": "execute_result"
    }
   ],
   "source": [
    "type(10.5)"
   ]
  },
  {
   "cell_type": "markdown",
   "id": "c8f799c8-2cb7-4042-a989-2e8223b9785f",
   "metadata": {},
   "source": [
    "## Recebendo dados do usuário"
   ]
  },
  {
   "cell_type": "markdown",
   "id": "d836e7ef-596a-4c81-acf4-bbc0ec18ab94",
   "metadata": {},
   "source": [
    "Para receber dados de um usuário, podemos utilizar a função input()"
   ]
  },
  {
   "cell_type": "code",
   "execution_count": 12,
   "id": "cbbbdc52-fc4a-4c1b-bf97-cb64e1ca5f95",
   "metadata": {},
   "outputs": [
    {
     "name": "stdin",
     "output_type": "stream",
     "text": [
      "Digite o seu nome: Ademar\n",
      "Digite sua idade: 26 anos\n"
     ]
    },
    {
     "data": {
      "text/plain": [
       "'26 anos'"
      ]
     },
     "execution_count": 12,
     "metadata": {},
     "output_type": "execute_result"
    }
   ],
   "source": [
    "input(\"Digite o seu nome:\")\n",
    "input(\"Digite sua idade:\")"
   ]
  },
  {
   "cell_type": "markdown",
   "id": "b3bbdadf-a874-4cdf-af97-677aab9ce0d7",
   "metadata": {},
   "source": [
    "## Variáveis: guardando informações"
   ]
  },
  {
   "cell_type": "markdown",
   "id": "ce95bd7a-9dfe-4bd7-bb2a-a1fbd6122004",
   "metadata": {},
   "source": [
    "Variáveis são espaços na memória do computador que o pythn utiliza para guardar um dado.\n",
    "\n",
    "Nome de variáveis não podem:\n",
    "    ser palavras reservadas da linguagem;\n",
    "    começar com números;\n",
    "    conter espaços em branco e nem caracteres especiais (acentos, cedilha, etc...)"
   ]
  },
  {
   "cell_type": "code",
   "execution_count": 13,
   "id": "ca3724e7-f6b4-4593-a2a8-8c1f91eb846f",
   "metadata": {},
   "outputs": [
    {
     "name": "stdout",
     "output_type": "stream",
     "text": [
      "Semana do python na prática\n"
     ]
    }
   ],
   "source": [
    "nome = \"Semana do python na prática\"\n",
    "print(nome)"
   ]
  },
  {
   "cell_type": "code",
   "execution_count": 14,
   "id": "49ee1671-e2ba-47ea-91d6-f30ec709c281",
   "metadata": {},
   "outputs": [
    {
     "name": "stdout",
     "output_type": "stream",
     "text": [
      "30\n"
     ]
    }
   ],
   "source": [
    "n1 = 10 \n",
    "n2 = 20\n",
    "soma = n1 + n2\n",
    "print(soma)"
   ]
  },
  {
   "cell_type": "code",
   "execution_count": 16,
   "id": "d76a0d5a-e043-4eaf-a2f1-3ee2ef71ffcb",
   "metadata": {},
   "outputs": [
    {
     "name": "stdin",
     "output_type": "stream",
     "text": [
      "Digite o seu nome:  Ademar\n",
      "Digite a sua idade:  26\n",
      "Digite o seu peso:  89.6\n"
     ]
    }
   ],
   "source": [
    "nome = input(\"Digite o seu nome: \")\n",
    "idade = input(\"Digite a sua idade: \")\n",
    "peso = input(\"Digite o seu peso: \")"
   ]
  },
  {
   "cell_type": "code",
   "execution_count": 19,
   "id": "180455d7-4dca-4e14-a2fd-1802821996c9",
   "metadata": {},
   "outputs": [
    {
     "data": {
      "text/plain": [
       "str"
      ]
     },
     "execution_count": 19,
     "metadata": {},
     "output_type": "execute_result"
    }
   ],
   "source": [
    "#CUIDADO! Todos os dados que digitamos no input() são TEXTO, mesmo os números\n",
    "type(nome)\n",
    "type(idade)\n",
    "type(peso)"
   ]
  },
  {
   "cell_type": "markdown",
   "id": "605e8388-3169-4bd0-ba43-0b13f52cd6b3",
   "metadata": {},
   "source": [
    "Para converter números em texto, podemos utilizar a função str()\n",
    "Para converter textos em números, podemos utilizar a função:\n",
    "    int() para converter em um número inteiros;\n",
    "    float() para converter em um número com casas decimais."
   ]
  },
  {
   "cell_type": "code",
   "execution_count": 20,
   "id": "41d588fe-87f6-45da-b285-ce137f9ad4c1",
   "metadata": {},
   "outputs": [
    {
     "name": "stdout",
     "output_type": "stream",
     "text": [
      "36\n"
     ]
    }
   ],
   "source": [
    "print(int(idade) + 10)"
   ]
  },
  {
   "cell_type": "code",
   "execution_count": 21,
   "id": "32ecfd19-9baa-4a68-b6de-cfa7b33cf560",
   "metadata": {},
   "outputs": [
    {
     "name": "stdout",
     "output_type": "stream",
     "text": [
      "99.6\n"
     ]
    }
   ],
   "source": [
    "print(float(peso) + 10)"
   ]
  },
  {
   "cell_type": "markdown",
   "id": "32d2be6b-dffe-442f-b75f-a8b31b6b46ad",
   "metadata": {},
   "source": [
    "## Juntado textos com variáveis"
   ]
  },
  {
   "cell_type": "markdown",
   "id": "72a54a32-b9cf-4092-84bb-12ebce113c04",
   "metadata": {},
   "source": [
    "Para juntar texto com os dados de uma variável, pode utilizar os textos formatados\n",
    "    basta utilizar um f antes das aspas do texto e colocar a variável dentro de chaves:"
   ]
  },
  {
   "cell_type": "code",
   "execution_count": 24,
   "id": "d82db479-87d2-4ca2-a967-ac823279f855",
   "metadata": {},
   "outputs": [
    {
     "name": "stdin",
     "output_type": "stream",
     "text": [
      "Digite o seu nome:  Ademar\n",
      "Digite a sua idade:  26\n"
     ]
    }
   ],
   "source": [
    "nome = input(\"Digite o seu nome: \")\n",
    "idade = int(input(\"Digite a sua idade: \"))"
   ]
  },
  {
   "cell_type": "code",
   "execution_count": 25,
   "id": "49a2caca-0cc6-483d-87bb-b04388944fba",
   "metadata": {},
   "outputs": [
    {
     "name": "stdout",
     "output_type": "stream",
     "text": [
      "Meu nome é Ademar e eu tenho 26 anos!\n"
     ]
    }
   ],
   "source": [
    "print(f\"Meu nome é {nome} e eu tenho {idade} anos!\")"
   ]
  },
  {
   "cell_type": "markdown",
   "id": "7aa3c2ef-ea81-43b3-b275-7e6c0f58e430",
   "metadata": {},
   "source": [
    "# PROJETO DA AULA"
   ]
  },
  {
   "cell_type": "markdown",
   "id": "f86ec3c5-1464-443e-9266-41db8e5f2077",
   "metadata": {},
   "source": [
    "OBJETIVO: Gerar automaticamente PDFs com PYTHON\n",
    "\n",
    "CENÁRIO: Emitir orçamentos para sua empresa"
   ]
  },
  {
   "cell_type": "markdown",
   "id": "343dbe6c-f7fb-4fe8-aa7d-14e3619a43f6",
   "metadata": {},
   "source": [
    "## Desenvolver as entradas de dados"
   ]
  },
  {
   "cell_type": "markdown",
   "id": "a3eb431e-3bc0-48b1-8835-6596c5315a90",
   "metadata": {},
   "source": [
    "    Descrição do projeto;\n",
    "    Total de horas estimadas;\n",
    "    Valor da hora de trabalho;\n",
    "    Prazo de entrega estimado."
   ]
  },
  {
   "cell_type": "code",
   "execution_count": 11,
   "id": "737cbdd8-4eee-4cc1-b20f-e8b7fac1c70b",
   "metadata": {},
   "outputs": [
    {
     "name": "stdin",
     "output_type": "stream",
     "text": [
      "Digite a descrição do projeto:  Moveis planejados da cozinha\n",
      "Digite o total de horas estimadas:  30\n",
      "Digite o valor da hora trabalhada:  150\n",
      "Digite o prazo estimado:  2 Semanas\n"
     ]
    }
   ],
   "source": [
    "projeto = input (\"Digite a descrição do projeto: \")\n",
    "\n",
    "horas_estimadas = input (\"Digite o total de horas estimadas: \")\n",
    "\n",
    "valor_hora = input (\"Digite o valor da hora trabalhada: \")\n",
    "\n",
    "prazo_estimado = input (\"Digite o prazo estimado: \")"
   ]
  },
  {
   "cell_type": "markdown",
   "id": "0c63f544-c8a6-445a-931d-8fc6094a1d88",
   "metadata": {},
   "source": [
    " ## Criando o cálculo do valor total estimado"
   ]
  },
  {
   "cell_type": "markdown",
   "id": "446b0e2f-f453-453a-b257-a6fd0b79fea3",
   "metadata": {},
   "source": [
    "    Cálculo: valor total estimado = total de horas estimadas x valor da hora de trabalho"
   ]
  },
  {
   "cell_type": "code",
   "execution_count": 12,
   "id": "3a63b278-5aec-44ce-983d-3ab28ba5244a",
   "metadata": {},
   "outputs": [
    {
     "name": "stdout",
     "output_type": "stream",
     "text": [
      "4500\n"
     ]
    }
   ],
   "source": [
    "valor_total_estimado = int (horas_estimadas) * int (valor_hora)\n",
    "\n",
    "print(valor_total_estimado)"
   ]
  },
  {
   "cell_type": "markdown",
   "id": "545f59cd-f4d1-4dc5-b8e5-30d1a96f866b",
   "metadata": {},
   "source": [
    "## Gerando PDF com o orçamento"
   ]
  },
  {
   "cell_type": "markdown",
   "id": "f6c0496c-e469-42f9-a569-88ef1e756cad",
   "metadata": {},
   "source": [
    "    Instalando a biblioteca"
   ]
  },
  {
   "cell_type": "code",
   "execution_count": 6,
   "id": "974d1550-196c-4ca3-8f59-e5775a12cf20",
   "metadata": {},
   "outputs": [
    {
     "name": "stdout",
     "output_type": "stream",
     "text": [
      "Collecting fpdf\n",
      "  Downloading fpdf-1.7.2.tar.gz (39 kB)\n",
      "  Preparing metadata (setup.py): started\n",
      "  Preparing metadata (setup.py): finished with status 'done'\n",
      "Building wheels for collected packages: fpdf\n",
      "  Building wheel for fpdf (setup.py): started\n",
      "  Building wheel for fpdf (setup.py): finished with status 'done'\n",
      "  Created wheel for fpdf: filename=fpdf-1.7.2-py2.py3-none-any.whl size=40713 sha256=8a15c81839be9feeb5cd2fe5d367d7e37d93ab139b4c3b1a30205c93073e8ad3\n",
      "  Stored in directory: c:\\users\\adema\\appdata\\local\\pip\\cache\\wheels\\65\\4f\\66\\bbda9866da446a72e206d6484cd97381cbc7859a7068541c36\n",
      "Successfully built fpdf\n",
      "Installing collected packages: fpdf\n",
      "Successfully installed fpdf-1.7.2\n"
     ]
    }
   ],
   "source": [
    "!pip install fpdf"
   ]
  },
  {
   "cell_type": "code",
   "execution_count": 7,
   "id": "b5efa6ca-b01a-4448-a823-b704bdf8215f",
   "metadata": {},
   "outputs": [],
   "source": [
    "# Importando a biblioteca\n",
    "from fpdf import FPDF"
   ]
  },
  {
   "cell_type": "markdown",
   "id": "1baa9413-f302-4b59-815e-e6c2da5f822f",
   "metadata": {},
   "source": [
    "    Criando um Arquivo PDF"
   ]
  },
  {
   "cell_type": "code",
   "execution_count": 21,
   "id": "768562a1-2699-43f3-990c-f6642d36dd1d",
   "metadata": {},
   "outputs": [],
   "source": [
    "pdf = FPDF()\n",
    "pdf.add_page()\n",
    "pdf.set_font(\"Arial\")"
   ]
  },
  {
   "cell_type": "markdown",
   "id": "012ecf0e-f762-4e67-8984-d99af46ff5f0",
   "metadata": {},
   "source": [
    "    Inserindo dados no PDF"
   ]
  },
  {
   "cell_type": "code",
   "execution_count": 22,
   "id": "4bce0425-29ec-4d10-b9d5-2593d4febf4c",
   "metadata": {},
   "outputs": [],
   "source": [
    "# Utilizando um template\n",
    "pdf.image(\"template.png\", x=0, y=0 )\n",
    "\n",
    "# Inserindo os dados do projeto\n",
    "pdf.text(115, 145, projeto)\n",
    "pdf.text(115, 160, horas_estimadas)\n",
    "pdf.text(115, 175, valor_hora)\n",
    "pdf.text(115, 190, prazo_estimado)\n",
    "pdf.text(115, 205, str(valor_total_estimado))"
   ]
  },
  {
   "cell_type": "markdown",
   "id": "35139d04-e90b-4bcd-8297-bc36f304f589",
   "metadata": {},
   "source": [
    "    Salvado o arquivo"
   ]
  },
  {
   "cell_type": "code",
   "execution_count": 23,
   "id": "5406068a-77ef-48ba-9357-2bbf11b7ca34",
   "metadata": {},
   "outputs": [
    {
     "name": "stdout",
     "output_type": "stream",
     "text": [
      "Orçamento gerado com sucesso!\n"
     ]
    }
   ],
   "source": [
    "pdf.output(\"orçamento.pdf\")\n",
    "print(\"Orçamento gerado com sucesso!\")"
   ]
  }
 ],
 "metadata": {
  "kernelspec": {
   "display_name": "Python 3 (ipykernel)",
   "language": "python",
   "name": "python3"
  },
  "language_info": {
   "codemirror_mode": {
    "name": "ipython",
    "version": 3
   },
   "file_extension": ".py",
   "mimetype": "text/x-python",
   "name": "python",
   "nbconvert_exporter": "python",
   "pygments_lexer": "ipython3",
   "version": "3.11.7"
  }
 },
 "nbformat": 4,
 "nbformat_minor": 5
}
